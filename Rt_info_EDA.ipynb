{
 "cells": [
  {
   "cell_type": "markdown",
   "metadata": {},
   "source": [
    "## Business Understanding/Overview\n",
    "Our goal is to help  generate insights for a company by helping them decide what type of films to create for their new movie studio. We will use various datasets related to movies, analyze trends, and provide actionable recommendations based on our findings.Our task is to explore what types of films are currently doing the best from the data sets we have  and translate those findings into actionable insights for the company's  new movie studio."
   ]
  },
  {
   "cell_type": "markdown",
   "metadata": {},
   "source": [
    "## Problem Statement\n"
   ]
  },
  {
   "cell_type": "markdown",
   "metadata": {},
   "source": [
    "## Objectives\n",
    "Compare budget to profitability.\n",
    "\n",
    "Identify the top-performing genres.\n",
    "\n",
    "Assess profitability by genre.\n",
    "\n",
    "what movies have ROI"
   ]
  },
  {
   "cell_type": "markdown",
   "metadata": {},
   "source": [
    "## Research Questions\n",
    "How does runtime influence audience reception and revenue?\n",
    "Which studios produce the highest-grossing films, and what genres do they focus on?\n"
   ]
  },
  {
   "cell_type": "code",
   "execution_count": 436,
   "metadata": {},
   "outputs": [],
   "source": [
    "# Your code here - remember to use markdown cells for comments as well!\n",
    "import pandas as pd\n",
    "import numpy as np\n",
    "import matplotlib.pyplot as plt\n",
    "import seaborn as sns\n",
    "import sqlite3\n",
    "pd.set_option('display.float_format', '{:.2f}'.format)\n",
    "%matplotlib inline"
   ]
  },
  {
   "cell_type": "markdown",
   "metadata": {},
   "source": [
    "### rt_info EDA"
   ]
  },
  {
   "cell_type": "code",
   "execution_count": 437,
   "metadata": {},
   "outputs": [
    {
     "data": {
      "text/html": [
       "<div>\n",
       "<style scoped>\n",
       "    .dataframe tbody tr th:only-of-type {\n",
       "        vertical-align: middle;\n",
       "    }\n",
       "\n",
       "    .dataframe tbody tr th {\n",
       "        vertical-align: top;\n",
       "    }\n",
       "\n",
       "    .dataframe thead th {\n",
       "        text-align: right;\n",
       "    }\n",
       "</style>\n",
       "<table border=\"1\" class=\"dataframe\">\n",
       "  <thead>\n",
       "    <tr style=\"text-align: right;\">\n",
       "      <th></th>\n",
       "      <th>synopsis</th>\n",
       "      <th>rating</th>\n",
       "      <th>genre</th>\n",
       "      <th>director</th>\n",
       "      <th>writer</th>\n",
       "      <th>theater_date</th>\n",
       "      <th>dvd_date</th>\n",
       "      <th>currency</th>\n",
       "      <th>box_office</th>\n",
       "      <th>runtime</th>\n",
       "      <th>studio</th>\n",
       "    </tr>\n",
       "    <tr>\n",
       "      <th>id</th>\n",
       "      <th></th>\n",
       "      <th></th>\n",
       "      <th></th>\n",
       "      <th></th>\n",
       "      <th></th>\n",
       "      <th></th>\n",
       "      <th></th>\n",
       "      <th></th>\n",
       "      <th></th>\n",
       "      <th></th>\n",
       "      <th></th>\n",
       "    </tr>\n",
       "  </thead>\n",
       "  <tbody>\n",
       "    <tr>\n",
       "      <th>1</th>\n",
       "      <td>This gritty, fast-paced, and innovative police...</td>\n",
       "      <td>R</td>\n",
       "      <td>Action and Adventure|Classics|Drama</td>\n",
       "      <td>William Friedkin</td>\n",
       "      <td>Ernest Tidyman</td>\n",
       "      <td>Oct 9, 1971</td>\n",
       "      <td>Sep 25, 2001</td>\n",
       "      <td>NaN</td>\n",
       "      <td>NaN</td>\n",
       "      <td>104 minutes</td>\n",
       "      <td>NaN</td>\n",
       "    </tr>\n",
       "    <tr>\n",
       "      <th>3</th>\n",
       "      <td>New York City, not-too-distant-future: Eric Pa...</td>\n",
       "      <td>R</td>\n",
       "      <td>Drama|Science Fiction and Fantasy</td>\n",
       "      <td>David Cronenberg</td>\n",
       "      <td>David Cronenberg|Don DeLillo</td>\n",
       "      <td>Aug 17, 2012</td>\n",
       "      <td>Jan 1, 2013</td>\n",
       "      <td>$</td>\n",
       "      <td>600,000</td>\n",
       "      <td>108 minutes</td>\n",
       "      <td>Entertainment One</td>\n",
       "    </tr>\n",
       "    <tr>\n",
       "      <th>5</th>\n",
       "      <td>Illeana Douglas delivers a superb performance ...</td>\n",
       "      <td>R</td>\n",
       "      <td>Drama|Musical and Performing Arts</td>\n",
       "      <td>Allison Anders</td>\n",
       "      <td>Allison Anders</td>\n",
       "      <td>Sep 13, 1996</td>\n",
       "      <td>Apr 18, 2000</td>\n",
       "      <td>NaN</td>\n",
       "      <td>NaN</td>\n",
       "      <td>116 minutes</td>\n",
       "      <td>NaN</td>\n",
       "    </tr>\n",
       "    <tr>\n",
       "      <th>6</th>\n",
       "      <td>Michael Douglas runs afoul of a treacherous su...</td>\n",
       "      <td>R</td>\n",
       "      <td>Drama|Mystery and Suspense</td>\n",
       "      <td>Barry Levinson</td>\n",
       "      <td>Paul Attanasio|Michael Crichton</td>\n",
       "      <td>Dec 9, 1994</td>\n",
       "      <td>Aug 27, 1997</td>\n",
       "      <td>NaN</td>\n",
       "      <td>NaN</td>\n",
       "      <td>128 minutes</td>\n",
       "      <td>NaN</td>\n",
       "    </tr>\n",
       "    <tr>\n",
       "      <th>7</th>\n",
       "      <td>NaN</td>\n",
       "      <td>NR</td>\n",
       "      <td>Drama|Romance</td>\n",
       "      <td>Rodney Bennett</td>\n",
       "      <td>Giles Cooper</td>\n",
       "      <td>NaN</td>\n",
       "      <td>NaN</td>\n",
       "      <td>NaN</td>\n",
       "      <td>NaN</td>\n",
       "      <td>200 minutes</td>\n",
       "      <td>NaN</td>\n",
       "    </tr>\n",
       "  </tbody>\n",
       "</table>\n",
       "</div>"
      ],
      "text/plain": [
       "                                             synopsis rating  \\\n",
       "id                                                             \n",
       "1   This gritty, fast-paced, and innovative police...      R   \n",
       "3   New York City, not-too-distant-future: Eric Pa...      R   \n",
       "5   Illeana Douglas delivers a superb performance ...      R   \n",
       "6   Michael Douglas runs afoul of a treacherous su...      R   \n",
       "7                                                 NaN     NR   \n",
       "\n",
       "                                  genre          director  \\\n",
       "id                                                          \n",
       "1   Action and Adventure|Classics|Drama  William Friedkin   \n",
       "3     Drama|Science Fiction and Fantasy  David Cronenberg   \n",
       "5     Drama|Musical and Performing Arts    Allison Anders   \n",
       "6            Drama|Mystery and Suspense    Barry Levinson   \n",
       "7                         Drama|Romance    Rodney Bennett   \n",
       "\n",
       "                             writer  theater_date      dvd_date currency  \\\n",
       "id                                                                         \n",
       "1                    Ernest Tidyman   Oct 9, 1971  Sep 25, 2001      NaN   \n",
       "3      David Cronenberg|Don DeLillo  Aug 17, 2012   Jan 1, 2013        $   \n",
       "5                    Allison Anders  Sep 13, 1996  Apr 18, 2000      NaN   \n",
       "6   Paul Attanasio|Michael Crichton   Dec 9, 1994  Aug 27, 1997      NaN   \n",
       "7                      Giles Cooper           NaN           NaN      NaN   \n",
       "\n",
       "   box_office      runtime             studio  \n",
       "id                                             \n",
       "1         NaN  104 minutes                NaN  \n",
       "3     600,000  108 minutes  Entertainment One  \n",
       "5         NaN  116 minutes                NaN  \n",
       "6         NaN  128 minutes                NaN  \n",
       "7         NaN  200 minutes                NaN  "
      ]
     },
     "execution_count": 437,
     "metadata": {},
     "output_type": "execute_result"
    }
   ],
   "source": [
    "rt_info = pd.read_csv(\"zippedData/rt.movie_info.tsv.gz\",index_col=0, sep='\\t')\n",
    "rt_info.head()"
   ]
  },
  {
   "cell_type": "code",
   "execution_count": 438,
   "metadata": {},
   "outputs": [
    {
     "data": {
      "text/html": [
       "<div>\n",
       "<style scoped>\n",
       "    .dataframe tbody tr th:only-of-type {\n",
       "        vertical-align: middle;\n",
       "    }\n",
       "\n",
       "    .dataframe tbody tr th {\n",
       "        vertical-align: top;\n",
       "    }\n",
       "\n",
       "    .dataframe thead th {\n",
       "        text-align: right;\n",
       "    }\n",
       "</style>\n",
       "<table border=\"1\" class=\"dataframe\">\n",
       "  <thead>\n",
       "    <tr style=\"text-align: right;\">\n",
       "      <th></th>\n",
       "      <th>synopsis</th>\n",
       "      <th>rating</th>\n",
       "      <th>genre</th>\n",
       "      <th>director</th>\n",
       "      <th>writer</th>\n",
       "      <th>theater_date</th>\n",
       "      <th>dvd_date</th>\n",
       "      <th>currency</th>\n",
       "      <th>box_office</th>\n",
       "      <th>runtime</th>\n",
       "      <th>studio</th>\n",
       "    </tr>\n",
       "    <tr>\n",
       "      <th>id</th>\n",
       "      <th></th>\n",
       "      <th></th>\n",
       "      <th></th>\n",
       "      <th></th>\n",
       "      <th></th>\n",
       "      <th></th>\n",
       "      <th></th>\n",
       "      <th></th>\n",
       "      <th></th>\n",
       "      <th></th>\n",
       "      <th></th>\n",
       "    </tr>\n",
       "  </thead>\n",
       "  <tbody>\n",
       "    <tr>\n",
       "      <th>1996</th>\n",
       "      <td>Forget terrorists or hijackers -- there's a ha...</td>\n",
       "      <td>R</td>\n",
       "      <td>Action and Adventure|Horror|Mystery and Suspense</td>\n",
       "      <td>NaN</td>\n",
       "      <td>NaN</td>\n",
       "      <td>Aug 18, 2006</td>\n",
       "      <td>Jan 2, 2007</td>\n",
       "      <td>$</td>\n",
       "      <td>33,886,034</td>\n",
       "      <td>106 minutes</td>\n",
       "      <td>New Line Cinema</td>\n",
       "    </tr>\n",
       "    <tr>\n",
       "      <th>1997</th>\n",
       "      <td>The popular Saturday Night Live sketch was exp...</td>\n",
       "      <td>PG</td>\n",
       "      <td>Comedy|Science Fiction and Fantasy</td>\n",
       "      <td>Steve Barron</td>\n",
       "      <td>Terry Turner|Tom Davis|Dan Aykroyd|Bonnie Turner</td>\n",
       "      <td>Jul 23, 1993</td>\n",
       "      <td>Apr 17, 2001</td>\n",
       "      <td>NaN</td>\n",
       "      <td>NaN</td>\n",
       "      <td>88 minutes</td>\n",
       "      <td>Paramount Vantage</td>\n",
       "    </tr>\n",
       "    <tr>\n",
       "      <th>1998</th>\n",
       "      <td>Based on a novel by Richard Powell, when the l...</td>\n",
       "      <td>G</td>\n",
       "      <td>Classics|Comedy|Drama|Musical and Performing Arts</td>\n",
       "      <td>Gordon Douglas</td>\n",
       "      <td>NaN</td>\n",
       "      <td>Jan 1, 1962</td>\n",
       "      <td>May 11, 2004</td>\n",
       "      <td>NaN</td>\n",
       "      <td>NaN</td>\n",
       "      <td>111 minutes</td>\n",
       "      <td>NaN</td>\n",
       "    </tr>\n",
       "    <tr>\n",
       "      <th>1999</th>\n",
       "      <td>The Sandlot is a coming-of-age story about a g...</td>\n",
       "      <td>PG</td>\n",
       "      <td>Comedy|Drama|Kids and Family|Sports and Fitness</td>\n",
       "      <td>David Mickey Evans</td>\n",
       "      <td>David Mickey Evans|Robert Gunter</td>\n",
       "      <td>Apr 1, 1993</td>\n",
       "      <td>Jan 29, 2002</td>\n",
       "      <td>NaN</td>\n",
       "      <td>NaN</td>\n",
       "      <td>101 minutes</td>\n",
       "      <td>NaN</td>\n",
       "    </tr>\n",
       "    <tr>\n",
       "      <th>2000</th>\n",
       "      <td>Suspended from the force, Paris cop Hubert is ...</td>\n",
       "      <td>R</td>\n",
       "      <td>Action and Adventure|Art House and Internation...</td>\n",
       "      <td>NaN</td>\n",
       "      <td>Luc Besson</td>\n",
       "      <td>Sep 27, 2001</td>\n",
       "      <td>Feb 11, 2003</td>\n",
       "      <td>NaN</td>\n",
       "      <td>NaN</td>\n",
       "      <td>94 minutes</td>\n",
       "      <td>Columbia Pictures</td>\n",
       "    </tr>\n",
       "  </tbody>\n",
       "</table>\n",
       "</div>"
      ],
      "text/plain": [
       "                                               synopsis rating  \\\n",
       "id                                                               \n",
       "1996  Forget terrorists or hijackers -- there's a ha...      R   \n",
       "1997  The popular Saturday Night Live sketch was exp...     PG   \n",
       "1998  Based on a novel by Richard Powell, when the l...      G   \n",
       "1999  The Sandlot is a coming-of-age story about a g...     PG   \n",
       "2000  Suspended from the force, Paris cop Hubert is ...      R   \n",
       "\n",
       "                                                  genre            director  \\\n",
       "id                                                                            \n",
       "1996   Action and Adventure|Horror|Mystery and Suspense                 NaN   \n",
       "1997                 Comedy|Science Fiction and Fantasy        Steve Barron   \n",
       "1998  Classics|Comedy|Drama|Musical and Performing Arts      Gordon Douglas   \n",
       "1999    Comedy|Drama|Kids and Family|Sports and Fitness  David Mickey Evans   \n",
       "2000  Action and Adventure|Art House and Internation...                 NaN   \n",
       "\n",
       "                                                writer  theater_date  \\\n",
       "id                                                                     \n",
       "1996                                               NaN  Aug 18, 2006   \n",
       "1997  Terry Turner|Tom Davis|Dan Aykroyd|Bonnie Turner  Jul 23, 1993   \n",
       "1998                                               NaN   Jan 1, 1962   \n",
       "1999                  David Mickey Evans|Robert Gunter   Apr 1, 1993   \n",
       "2000                                        Luc Besson  Sep 27, 2001   \n",
       "\n",
       "          dvd_date currency  box_office      runtime             studio  \n",
       "id                                                                       \n",
       "1996   Jan 2, 2007        $  33,886,034  106 minutes    New Line Cinema  \n",
       "1997  Apr 17, 2001      NaN         NaN   88 minutes  Paramount Vantage  \n",
       "1998  May 11, 2004      NaN         NaN  111 minutes                NaN  \n",
       "1999  Jan 29, 2002      NaN         NaN  101 minutes                NaN  \n",
       "2000  Feb 11, 2003      NaN         NaN   94 minutes  Columbia Pictures  "
      ]
     },
     "execution_count": 438,
     "metadata": {},
     "output_type": "execute_result"
    }
   ],
   "source": [
    "rt_info.tail()"
   ]
  },
  {
   "cell_type": "code",
   "execution_count": 439,
   "metadata": {},
   "outputs": [
    {
     "data": {
      "text/plain": [
       "(1560, 11)"
      ]
     },
     "execution_count": 439,
     "metadata": {},
     "output_type": "execute_result"
    }
   ],
   "source": [
    "rt_info.shape"
   ]
  },
  {
   "cell_type": "code",
   "execution_count": 440,
   "metadata": {},
   "outputs": [
    {
     "name": "stdout",
     "output_type": "stream",
     "text": [
      "<class 'pandas.core.frame.DataFrame'>\n",
      "Int64Index: 1560 entries, 1 to 2000\n",
      "Data columns (total 11 columns):\n",
      " #   Column        Non-Null Count  Dtype \n",
      "---  ------        --------------  ----- \n",
      " 0   synopsis      1498 non-null   object\n",
      " 1   rating        1557 non-null   object\n",
      " 2   genre         1552 non-null   object\n",
      " 3   director      1361 non-null   object\n",
      " 4   writer        1111 non-null   object\n",
      " 5   theater_date  1201 non-null   object\n",
      " 6   dvd_date      1201 non-null   object\n",
      " 7   currency      340 non-null    object\n",
      " 8   box_office    340 non-null    object\n",
      " 9   runtime       1530 non-null   object\n",
      " 10  studio        494 non-null    object\n",
      "dtypes: object(11)\n",
      "memory usage: 146.2+ KB\n"
     ]
    }
   ],
   "source": [
    "rt_info.info()"
   ]
  },
  {
   "cell_type": "code",
   "execution_count": 441,
   "metadata": {},
   "outputs": [
    {
     "data": {
      "text/plain": [
       "synopsis        3.97\n",
       "rating          0.19\n",
       "genre           0.51\n",
       "director       12.76\n",
       "writer         28.78\n",
       "theater_date   23.01\n",
       "dvd_date       23.01\n",
       "currency       78.21\n",
       "box_office     78.21\n",
       "runtime         1.92\n",
       "studio         68.33\n",
       "dtype: float64"
      ]
     },
     "execution_count": 441,
     "metadata": {},
     "output_type": "execute_result"
    }
   ],
   "source": [
    "#checking for missing values\n",
    "(rt_info.isna().sum()/len(rt_info))*100"
   ]
  },
  {
   "cell_type": "markdown",
   "metadata": {},
   "source": [
    "Run time, Rating  and Genre have a low percentage of missing values"
   ]
  },
  {
   "cell_type": "code",
   "execution_count": 442,
   "metadata": {},
   "outputs": [
    {
     "data": {
      "text/html": [
       "<div>\n",
       "<style scoped>\n",
       "    .dataframe tbody tr th:only-of-type {\n",
       "        vertical-align: middle;\n",
       "    }\n",
       "\n",
       "    .dataframe tbody tr th {\n",
       "        vertical-align: top;\n",
       "    }\n",
       "\n",
       "    .dataframe thead th {\n",
       "        text-align: right;\n",
       "    }\n",
       "</style>\n",
       "<table border=\"1\" class=\"dataframe\">\n",
       "  <thead>\n",
       "    <tr style=\"text-align: right;\">\n",
       "      <th></th>\n",
       "      <th>synopsis</th>\n",
       "      <th>rating</th>\n",
       "      <th>genre</th>\n",
       "      <th>director</th>\n",
       "      <th>writer</th>\n",
       "      <th>theater_date</th>\n",
       "      <th>dvd_date</th>\n",
       "      <th>currency</th>\n",
       "      <th>box_office</th>\n",
       "      <th>runtime</th>\n",
       "      <th>studio</th>\n",
       "    </tr>\n",
       "  </thead>\n",
       "  <tbody>\n",
       "    <tr>\n",
       "      <th>count</th>\n",
       "      <td>1498</td>\n",
       "      <td>1557</td>\n",
       "      <td>1552</td>\n",
       "      <td>1361</td>\n",
       "      <td>1111</td>\n",
       "      <td>1201</td>\n",
       "      <td>1201</td>\n",
       "      <td>340</td>\n",
       "      <td>340</td>\n",
       "      <td>1530</td>\n",
       "      <td>494</td>\n",
       "    </tr>\n",
       "    <tr>\n",
       "      <th>unique</th>\n",
       "      <td>1497</td>\n",
       "      <td>6</td>\n",
       "      <td>299</td>\n",
       "      <td>1125</td>\n",
       "      <td>1069</td>\n",
       "      <td>1025</td>\n",
       "      <td>717</td>\n",
       "      <td>1</td>\n",
       "      <td>336</td>\n",
       "      <td>142</td>\n",
       "      <td>200</td>\n",
       "    </tr>\n",
       "    <tr>\n",
       "      <th>top</th>\n",
       "      <td>A group of air crash survivors are stranded in...</td>\n",
       "      <td>R</td>\n",
       "      <td>Drama</td>\n",
       "      <td>Steven Spielberg</td>\n",
       "      <td>Woody Allen</td>\n",
       "      <td>Jan 1, 1987</td>\n",
       "      <td>Jun 1, 2004</td>\n",
       "      <td>$</td>\n",
       "      <td>200,000</td>\n",
       "      <td>90 minutes</td>\n",
       "      <td>Universal Pictures</td>\n",
       "    </tr>\n",
       "    <tr>\n",
       "      <th>freq</th>\n",
       "      <td>2</td>\n",
       "      <td>521</td>\n",
       "      <td>151</td>\n",
       "      <td>10</td>\n",
       "      <td>4</td>\n",
       "      <td>8</td>\n",
       "      <td>11</td>\n",
       "      <td>340</td>\n",
       "      <td>2</td>\n",
       "      <td>72</td>\n",
       "      <td>35</td>\n",
       "    </tr>\n",
       "  </tbody>\n",
       "</table>\n",
       "</div>"
      ],
      "text/plain": [
       "                                                 synopsis rating  genre  \\\n",
       "count                                                1498   1557   1552   \n",
       "unique                                               1497      6    299   \n",
       "top     A group of air crash survivors are stranded in...      R  Drama   \n",
       "freq                                                    2    521    151   \n",
       "\n",
       "                director       writer theater_date     dvd_date currency  \\\n",
       "count               1361         1111         1201         1201      340   \n",
       "unique              1125         1069         1025          717        1   \n",
       "top     Steven Spielberg  Woody Allen  Jan 1, 1987  Jun 1, 2004        $   \n",
       "freq                  10            4            8           11      340   \n",
       "\n",
       "       box_office     runtime              studio  \n",
       "count         340        1530                 494  \n",
       "unique        336         142                 200  \n",
       "top       200,000  90 minutes  Universal Pictures  \n",
       "freq            2          72                  35  "
      ]
     },
     "execution_count": 442,
     "metadata": {},
     "output_type": "execute_result"
    }
   ],
   "source": [
    "rt_info.describe()"
   ]
  },
  {
   "cell_type": "code",
   "execution_count": 443,
   "metadata": {},
   "outputs": [
    {
     "data": {
      "text/plain": [
       "dtype('O')"
      ]
     },
     "execution_count": 443,
     "metadata": {},
     "output_type": "execute_result"
    }
   ],
   "source": [
    "#checking for the data types in column runtime\n",
    "(rt_info['runtime'].dtype)"
   ]
  },
  {
   "cell_type": "code",
   "execution_count": 444,
   "metadata": {},
   "outputs": [],
   "source": [
    "# Replace missing values with \"Unknown\"\n",
    "rt_info['genre'] = rt_info['genre'].fillna('Unknown')\n"
   ]
  },
  {
   "cell_type": "code",
   "execution_count": 445,
   "metadata": {},
   "outputs": [],
   "source": [
    "# Replace missing values with \"Unknown\"\n",
    "rt_info['rating'] = rt_info['rating'].fillna('Unknown')\n"
   ]
  },
  {
   "cell_type": "code",
   "execution_count": 446,
   "metadata": {},
   "outputs": [
    {
     "data": {
      "text/plain": [
       "synopsis        3.97\n",
       "rating          0.00\n",
       "genre           0.00\n",
       "director       12.76\n",
       "writer         28.78\n",
       "theater_date   23.01\n",
       "dvd_date       23.01\n",
       "currency       78.21\n",
       "box_office     78.21\n",
       "runtime         1.92\n",
       "studio         68.33\n",
       "dtype: float64"
      ]
     },
     "execution_count": 446,
     "metadata": {},
     "output_type": "execute_result"
    }
   ],
   "source": [
    "#checking for missing values after replacing\n",
    "#New missing values\n",
    "(rt_info.isna().sum()/len(rt_info))*100"
   ]
  },
  {
   "cell_type": "code",
   "execution_count": 447,
   "metadata": {},
   "outputs": [
    {
     "data": {
      "text/plain": [
       "dtype('O')"
      ]
     },
     "execution_count": 447,
     "metadata": {},
     "output_type": "execute_result"
    }
   ],
   "source": [
    "(rt_info['runtime'].dtype)"
   ]
  },
  {
   "cell_type": "code",
   "execution_count": 448,
   "metadata": {},
   "outputs": [],
   "source": [
    "# Extract numeric values from runtime strings and convert to numeric\n",
    "rt_info['runtime'] = rt_info['runtime'].str.extract('(\\d+)').astype(float)\n"
   ]
  },
  {
   "cell_type": "code",
   "execution_count": 449,
   "metadata": {},
   "outputs": [],
   "source": [
    "# Replace NaN values with the mean runtime\n",
    "mean_runtime = rt_info['runtime'].mean()\n",
    "rt_info['runtime'] = rt_info['runtime'].fillna(mean_runtime)\n"
   ]
  },
  {
   "cell_type": "code",
   "execution_count": 450,
   "metadata": {},
   "outputs": [
    {
     "data": {
      "text/plain": [
       "Drama                                                                                           151\n",
       "Comedy                                                                                          110\n",
       "Comedy|Drama                                                                                     80\n",
       "Drama|Mystery and Suspense                                                                       67\n",
       "Art House and International|Drama                                                                62\n",
       "                                                                                               ... \n",
       "Classics|Drama|Musical and Performing Arts|Mystery and Suspense                                   1\n",
       "Action and Adventure|Animation|Classics|Comedy|Kids and Family|Musical and Performing Arts        1\n",
       "Classics|Comedy|Drama|Kids and Family|Musical and Performing Arts                                 1\n",
       "Art House and International|Classics|Horror|Science Fiction and Fantasy                           1\n",
       "Action and Adventure|Drama|Mystery and Suspense|Science Fiction and Fantasy|Special Interest      1\n",
       "Name: genre, Length: 300, dtype: int64"
      ]
     },
     "execution_count": 450,
     "metadata": {},
     "output_type": "execute_result"
    }
   ],
   "source": [
    "rt_info['genre'].value_counts()"
   ]
  },
  {
   "cell_type": "code",
   "execution_count": 451,
   "metadata": {},
   "outputs": [],
   "source": [
    "# Use the first genre only\n",
    "#This is done to make the genre column more readable\n",
    "rt_info['genre'] = rt_info['genre'].str.split('|').str[0]\n"
   ]
  },
  {
   "cell_type": "code",
   "execution_count": 452,
   "metadata": {},
   "outputs": [
    {
     "data": {
      "text/plain": [
       "array(['Action and Adventure', 'Drama', 'Comedy', 'Unknown',\n",
       "       'Documentary', 'Classics', 'Art House and International',\n",
       "       'Musical and Performing Arts', 'Horror', 'Mystery and Suspense',\n",
       "       'Animation', 'Special Interest', 'Kids and Family', 'Western',\n",
       "       'Science Fiction and Fantasy'], dtype=object)"
      ]
     },
     "execution_count": 452,
     "metadata": {},
     "output_type": "execute_result"
    }
   ],
   "source": [
    "(rt_info['genre'].unique())"
   ]
  },
  {
   "cell_type": "code",
   "execution_count": 453,
   "metadata": {},
   "outputs": [
    {
     "data": {
      "text/plain": [
       "Index(['synopsis', 'rating', 'genre', 'director', 'writer', 'theater_date',\n",
       "       'dvd_date', 'currency', 'box_office', 'runtime', 'studio'],\n",
       "      dtype='object')"
      ]
     },
     "execution_count": 453,
     "metadata": {},
     "output_type": "execute_result"
    }
   ],
   "source": [
    "rt_info.columns\n"
   ]
  },
  {
   "cell_type": "code",
   "execution_count": 454,
   "metadata": {},
   "outputs": [
    {
     "data": {
      "image/png": "[encoded data removed]",
      "text/plain": [
       "<Figure size 864x432 with 1 Axes>"
      ]
     },
     "metadata": {
      "needs_background": "light"
     },
     "output_type": "display_data"
    }
   ],
   "source": [
    "#Plotting the average runtime by genre to see which genre has the highest runtime\n",
    "plt.figure(figsize=(12, 6))\n",
    "sns.barplot(data=rt_info, x='genre', y='runtime', ci=None, estimator=np.mean, palette='viridis')\n",
    "plt.title('Average Runtime by Genre', fontsize=16)\n",
    "plt.xlabel('Genre', fontsize=12)\n",
    "plt.ylabel('Average Runtime (minutes)', fontsize=12)\n",
    "plt.xticks(rotation=45)\n",
    "plt.show()\n"
   ]
  },
  {
   "cell_type": "markdown",
   "metadata": {},
   "source": [
    "We noted studios might budget runtime differently based on the genre's target audience and storytelling needs."
   ]
  },
  {
   "cell_type": "code",
   "execution_count": 455,
   "metadata": {},
   "outputs": [
    {
     "data": {
      "image/png": "[encoded data removed]",
      "text/plain": [
       "<Figure size 720x432 with 1 Axes>"
      ]
     },
     "metadata": {
      "needs_background": "light"
     },
     "output_type": "display_data"
    }
   ],
   "source": [
    "\n",
    "# Create a histogram for the runtime column\n",
    "plt.figure(figsize=(10, 6))\n",
    "plt.hist(rt_info['runtime'], bins=20, color='blue', edgecolor='black')\n",
    "plt.title('Distribution of Runtime', fontsize=16)\n",
    "plt.xlabel('Runtime (minutes)', fontsize=12)\n",
    "plt.ylabel('Frequency', fontsize=12)\n",
    "plt.grid(axis='y', linestyle='--', alpha=0.7)\n",
    "plt.show()\n"
   ]
  },
  {
   "cell_type": "markdown",
   "metadata": {},
   "source": [
    "To answer our question, majority of the movies have a runtime between 90 and 110 minutes, indicating that most movies are optimized around the 90–110 minute range, which may balance audience attention span and satisfaction.The distribution is approximately bell-shaped with few (outliers)."
   ]
  },
  {
   "cell_type": "code",
   "execution_count": 456,
   "metadata": {},
   "outputs": [
    {
     "name": "stdout",
     "output_type": "stream",
     "text": [
      "Index(['synopsis', 'rating', 'genre', 'director', 'writer', 'theater_date',\n",
      "       'dvd_date', 'currency', 'box_office', 'runtime', 'studio'],\n",
      "      dtype='object')\n"
     ]
    }
   ],
   "source": [
    "print(rt_info.columns)\n"
   ]
  },
  {
   "cell_type": "code",
   "execution_count": 457,
   "metadata": {},
   "outputs": [],
   "source": [
    "rt_info['rating'] = rt_info['rating'].str.extract('(\\d+)').astype(float)"
   ]
  },
  {
   "cell_type": "code",
   "execution_count": 462,
   "metadata": {},
   "outputs": [
    {
     "data": {
      "image/png": "[encoded data removed]",
      "text/plain": [
       "<Figure size 360x360 with 1 Axes>"
      ]
     },
     "metadata": {
      "needs_background": "light"
     },
     "output_type": "display_data"
    }
   ],
   "source": [
    "sns.catplot(x='rating', y='genre', data= rt_info, kind='bar', ci=None, estimator=np.mean, palette='viridis')\n",
    "plt.title('Rating by Genre', fontsize=16)\n",
    "plt.xlabel('Genre', fontsize=12)\n",
    "plt.ylabel('Rating')\n",
    "plt.show()"
   ]
  },
  {
   "cell_type": "code",
   "execution_count": null,
   "metadata": {},
   "outputs": [],
   "source": []
  }
 ],
 "metadata": {
  "kernelspec": {
   "display_name": "learn-env",
   "language": "python",
   "name": "python3"
  },
  "language_info": {
   "codemirror_mode": {
    "name": "ipython",
    "version": 3
   },
   "file_extension": ".py",
   "mimetype": "text/x-python",
   "name": "python",
   "nbconvert_exporter": "python",
   "pygments_lexer": "ipython3",
   "version": "3.8.5"
  }
 },
 "nbformat": 4,
 "nbformat_minor": 2
}
